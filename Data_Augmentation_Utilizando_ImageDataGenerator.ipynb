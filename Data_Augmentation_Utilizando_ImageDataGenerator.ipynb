{
  "nbformat": 4,
  "nbformat_minor": 0,
  "metadata": {
    "colab": {
      "provenance": [],
      "collapsed_sections": [],
      "include_colab_link": true
    },
    "kernelspec": {
      "name": "python3",
      "display_name": "Python 3"
    },
    "language_info": {
      "name": "python"
    },
    "accelerator": "GPU"
  },
  "cells": [
    {
      "cell_type": "markdown",
      "metadata": {
        "id": "view-in-github",
        "colab_type": "text"
      },
      "source": [
        "<a href=\"https://colab.research.google.com/github/diegomendes1/Classif-Express-Faciais/blob/main/Data_Augmentation_Utilizando_ImageDataGenerator.ipynb\" target=\"_parent\"><img src=\"https://colab.research.google.com/assets/colab-badge.svg\" alt=\"Open In Colab\"/></a>"
      ]
    },
    {
      "cell_type": "markdown",
      "source": [
        "# Data Augmentation Utilizando ImageDataGenerator\n",
        "Diego Mendes da Silva"
      ],
      "metadata": {
        "id": "dkdCCgZ5W_7T"
      }
    },
    {
      "cell_type": "code",
      "execution_count": null,
      "metadata": {
        "id": "biueob3gsb5y"
      },
      "outputs": [],
      "source": [
        "import numpy as np\n",
        "from google.colab import drive\n",
        "import glob\n",
        "from PIL import Image\n",
        "from keras.preprocessing.image import ImageDataGenerator"
      ]
    },
    {
      "cell_type": "code",
      "source": [
        "drive.mount('/content/drive')\n",
        "pathData = '/content/drive/Shareddrives/Visão Computacional/Database/fer2013'"
      ],
      "metadata": {
        "id": "NfJb-GtpstlC",
        "colab": {
          "base_uri": "https://localhost:8080/"
        },
        "outputId": "11736380-72f3-4e0f-d8cb-560223e31598"
      },
      "execution_count": null,
      "outputs": [
        {
          "output_type": "stream",
          "name": "stdout",
          "text": [
            "Mounted at /content/drive\n"
          ]
        }
      ]
    },
    {
      "cell_type": "code",
      "source": [
        "emotions = [\"angry\", \"fear\", \"disgust\", \"happy\", \"sad\", \"surprise\", \"neutral\"]\n",
        "def GetEmotionName(id):\n",
        "    return emotions[id]"
      ],
      "metadata": {
        "id": "Ue7gT9nd0obd"
      },
      "execution_count": null,
      "outputs": []
    },
    {
      "cell_type": "code",
      "source": [
        "def GetEmotionId(n):\n",
        "    for i in range(len(emotions)):\n",
        "        if emotions[i] == n: return i\n",
        "    return -1"
      ],
      "metadata": {
        "id": "pUCqZUYC40-s"
      },
      "execution_count": null,
      "outputs": []
    },
    {
      "cell_type": "code",
      "source": [
        "listTrainImages = []\n",
        "listTestImages = []\n",
        "listTrainEmotions = []\n",
        "listTestEmotions = []\n",
        "\n",
        "for emotion in emotions:\n",
        "  for filename in glob.glob(pathData + \"/images/train/\" + emotion + \"/*.jpg\"):\n",
        "    im=Image.open(filename).resize((48, 48))\n",
        "    listTrainImages.append(np.array(im).astype(\"float32\"))\n",
        "    listTrainEmotions.append(GetEmotionId(emotion))\n",
        "  print(\"carregada!: train/\" + emotion)\n",
        "  for filename in glob.glob( pathData + \"/images/test/\" + emotion + \"/*.jpg\"):\n",
        "    im=Image.open(filename).resize((48, 48))\n",
        "    listTestImages.append(np.array(im).astype(\"float32\"))\n",
        "    listTestEmotions.append(GetEmotionId(emotion))\n",
        "  print(\"carregada!: test/\" + emotion)\n",
        "\n",
        "listTrainImages = np.array(listTrainImages)\n",
        "listTestImages = np.array(listTestImages)"
      ],
      "metadata": {
        "colab": {
          "base_uri": "https://localhost:8080/"
        },
        "id": "Z3h2leYI0i9H",
        "outputId": "240bb02d-d68b-4e48-a674-f6f246e8d4f8"
      },
      "execution_count": null,
      "outputs": [
        {
          "output_type": "stream",
          "name": "stdout",
          "text": [
            "carregada!: train/angry\n",
            "carregada!: test/angry\n",
            "carregada!: train/fear\n",
            "carregada!: test/fear\n",
            "carregada!: train/happy\n",
            "carregada!: test/happy\n",
            "carregada!: train/sad\n",
            "carregada!: test/sad\n",
            "carregada!: train/surprise\n",
            "carregada!: test/surprise\n",
            "carregada!: train/neutral\n",
            "carregada!: test/neutral\n"
          ]
        }
      ]
    },
    {
      "cell_type": "code",
      "source": [
        "print(len(listTrainImages))"
      ],
      "metadata": {
        "colab": {
          "base_uri": "https://localhost:8080/"
        },
        "id": "zXdqD34QMAW0",
        "outputId": "0a277a62-9a3f-45d0-b6ee-7ec65e0798ce"
      },
      "execution_count": null,
      "outputs": [
        {
          "output_type": "stream",
          "name": "stdout",
          "text": [
            "50327\n"
          ]
        }
      ]
    },
    {
      "cell_type": "code",
      "source": [
        "imgAug = ImageDataGenerator(\n",
        "    rotation_range=25, \n",
        "    width_shift_range=0.15,\n",
        "    height_shift_range=0.5, \n",
        "    zoom_range=0.3,\n",
        "    brightness_range=(0.8, 1.2),\n",
        "    fill_mode='nearest', \n",
        "    horizontal_flip=True\n",
        "  )"
      ],
      "metadata": {
        "id": "rexu-yOEtSHB"
      },
      "execution_count": null,
      "outputs": []
    },
    {
      "cell_type": "code",
      "source": [
        "#augmentation train\n",
        "for im in range(len(listTrainImages)):\n",
        "  img = listTrainImages[im].reshape((48, 48, 1))\n",
        "  img = np.expand_dims(img, axis=0)\n",
        "  imgGen = imgAug.flow(img, save_to_dir=pathData + \"/images/train/\" + GetEmotionName(listTrainEmotions[im]), save_format='jpg', save_prefix='b')\n",
        "  # gerar 10 imagens por data augmentation\n",
        "  counter = 0\n",
        "  for (i, newImage) in enumerate(imgGen):\n",
        "      counter += 1\n",
        "      if counter == 1:\n",
        "          break"
      ],
      "metadata": {
        "id": "1qWezN_a6N9j"
      },
      "execution_count": null,
      "outputs": []
    },
    {
      "cell_type": "code",
      "source": [
        "#augmentation test\n",
        "for im in range(len(listTestImages)):\n",
        "  img = listTestImages[im].reshape((48, 48, 1))\n",
        "  img = np.expand_dims(img, axis=0)\n",
        "  imgGen = imgAug.flow(img, save_to_dir=pathData + \"/images/test/\" + GetEmotionName(listTestEmotions[im]), save_format='jpg', save_prefix='b')\n",
        "  # gerar 10 imagens por data augmentation\n",
        "  counter = 0\n",
        "  for (i, newImage) in enumerate(imgGen):\n",
        "      counter += 1\n",
        "      if counter == 1:\n",
        "          break"
      ],
      "metadata": {
        "id": "seIBaU2F6NFc"
      },
      "execution_count": null,
      "outputs": []
    }
  ]
}