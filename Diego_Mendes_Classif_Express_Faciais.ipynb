{
  "cells": [
    {
      "cell_type": "markdown",
      "metadata": {
        "id": "view-in-github",
        "colab_type": "text"
      },
      "source": [
        "<a href=\"https://colab.research.google.com/github/diegomendes1/Classif-Express-Faciais/blob/main/Diego_Mendes_Classif_Express_Faciais.ipynb\" target=\"_parent\"><img src=\"https://colab.research.google.com/assets/colab-badge.svg\" alt=\"Open In Colab\"/></a>"
      ]
    },
    {
      "cell_type": "markdown",
      "metadata": {
        "id": "lAQt4KHdUsC_"
      },
      "source": [
        "# Classificação de Expressões Faciais Utilizando Redes Neurais Convolucionais \n",
        "***Visão Computacional***\n",
        "- Diego Mendes da Silva\n",
        "\n",
        "OBS: o Data Augmentation foi feito em outro colab:\n",
        "https://colab.research.google.com/drive/1SAhJIasWbKcJamMzIu0qn1wR70L6bv8M?usp=sharing"
      ]
    },
    {
      "cell_type": "markdown",
      "source": [
        "# Bibliotecas"
      ],
      "metadata": {
        "id": "QjeQNSFzW_jR"
      }
    },
    {
      "cell_type": "code",
      "execution_count": null,
      "metadata": {
        "id": "BAf9sg1UWV50"
      },
      "outputs": [],
      "source": [
        "import pandas as pd\n",
        "from google.colab import drive\n",
        "import numpy as np\n",
        "import cv2\n",
        "from google.colab.patches import cv2_imshow\n",
        "from tensorflow import keras\n",
        "from keras.utils import np_utils\n",
        "import matplotlib.pyplot as plt\n",
        "import glob\n",
        "from PIL import Image"
      ]
    },
    {
      "cell_type": "code",
      "execution_count": null,
      "metadata": {
        "id": "v-BB6XXdap3l"
      },
      "outputs": [],
      "source": [
        "from keras.layers.pooling import GlobalAveragePooling2D\n",
        "from keras.layers.normalization.batch_normalization import BatchNormalization\n",
        "from keras.models import Sequential\n",
        "from keras.layers import Dense, Dropout, Flatten, Activation, SpatialDropout2D\n",
        "from keras.layers import Conv2D, MaxPooling2D\n",
        "from keras.optimizers import adam_v2\n",
        "#from keras.optimizers import SGD\n",
        "#from tensorflow.keras.optimizers import Adam\n",
        "from keras.callbacks import ReduceLROnPlateau"
      ]
    },
    {
      "cell_type": "code",
      "execution_count": null,
      "metadata": {
        "colab": {
          "base_uri": "https://localhost:8080/"
        },
        "id": "B5mbyARsUnm6",
        "outputId": "dd254750-ed98-4562-c770-7472d2bc409e"
      },
      "outputs": [
        {
          "output_type": "stream",
          "name": "stdout",
          "text": [
            "Mounted at /content/drive\n"
          ]
        }
      ],
      "source": [
        "drive.mount('/content/drive')\n",
        "pathData = '/content/drive/Shareddrives/Visão Computacional/Database/fer2013Original'"
      ]
    },
    {
      "cell_type": "markdown",
      "metadata": {
        "id": "AjNykPDmMQJF"
      },
      "source": [
        "# Base de Dados"
      ]
    },
    {
      "cell_type": "code",
      "execution_count": null,
      "metadata": {
        "id": "cvYVkN56NM87"
      },
      "outputs": [],
      "source": [
        "emotions = [\"angry\", \"fear\", \"disgust\", \"happy\", \"sad\", \"surprise\", \"neutral\"]\n",
        "def GetEmotionName(id):\n",
        "    return emotions[id]\n",
        "\n",
        "def GetEmotionId(n):\n",
        "    for i in range(len(emotions)):\n",
        "        if emotions[i] == n: return i\n",
        "    return -1"
      ]
    },
    {
      "cell_type": "code",
      "execution_count": null,
      "metadata": {
        "id": "FEdA6X7NMUPk"
      },
      "outputs": [],
      "source": [
        "def loadDataset(t):\n",
        "    listImages = []\n",
        "    listEmotions = []\n",
        "    for emotion in emotions:\n",
        "        print(\"carregando emotion: \" + emotion)\n",
        "        for filename in glob.glob(pathData + '/' + t + \"/\" + emotion + \"/*.jpg\"):\n",
        "            im=Image.open(filename).resize((48, 48))\n",
        "            listImages.append(np.array(im).astype(\"float32\"))\n",
        "            listEmotions.append(GetEmotionId(emotion))\n",
        "        print(\"carregada: \" + t + \"/\" + emotion)\n",
        "    return (np.array(listImages), np.array(listEmotions))"
      ]
    },
    {
      "cell_type": "code",
      "execution_count": null,
      "metadata": {
        "colab": {
          "base_uri": "https://localhost:8080/"
        },
        "id": "ztkz6quBNaNU",
        "outputId": "4ea853ac-6462-4019-beed-38bd6a74ce95"
      },
      "outputs": [
        {
          "output_type": "stream",
          "name": "stdout",
          "text": [
            "carregando emotion: angry\n",
            "carregada: train/angry\n",
            "carregando emotion: fear\n",
            "carregada: train/fear\n",
            "carregando emotion: disgust\n",
            "carregada: train/disgust\n",
            "carregando emotion: happy\n",
            "carregada: train/happy\n",
            "carregando emotion: sad\n",
            "carregada: train/sad\n",
            "carregando emotion: surprise\n",
            "carregada: train/surprise\n",
            "carregando emotion: neutral\n",
            "carregada: train/neutral\n",
            "carregando emotion: angry\n",
            "carregada: test/angry\n",
            "carregando emotion: fear\n",
            "carregada: test/fear\n",
            "carregando emotion: disgust\n",
            "carregada: test/disgust\n",
            "carregando emotion: happy\n",
            "carregada: test/happy\n",
            "carregando emotion: sad\n",
            "carregada: test/sad\n",
            "carregando emotion: surprise\n",
            "carregada: test/surprise\n",
            "carregando emotion: neutral\n",
            "carregada: test/neutral\n"
          ]
        }
      ],
      "source": [
        "X_train, Y_train = loadDataset(\"train\")\n",
        "X_test, Y_test = loadDataset(\"test\")"
      ]
    },
    {
      "cell_type": "code",
      "execution_count": null,
      "metadata": {
        "id": "xWbCKcNTNLxM"
      },
      "outputs": [],
      "source": [
        "X_train_norm = (X_train-127.)/127.\n",
        "X_test_norm = (X_test-127.)/127.\n",
        "\n",
        "\n",
        "Y_train_categ = keras.utils.to_categorical(Y_train)\n",
        "Y_test_categ = keras.utils.to_categorical(Y_test)"
      ]
    },
    {
      "cell_type": "markdown",
      "metadata": {
        "id": "PeVGmynE6ZM7"
      },
      "source": [
        "# Modelos\n",
        "O modelo utilizado está na primeira função, pois é chamado quando dropout > 0"
      ]
    },
    {
      "cell_type": "code",
      "execution_count": null,
      "metadata": {
        "id": "8V6eLBr1zIsO"
      },
      "outputs": [],
      "source": [
        "def getModelDropout(dropout):\n",
        "  model = Sequential()\n",
        "  model.add(Conv2D(64, kernel_size=(3, 3), padding='same', input_shape=(48,48,1)))\n",
        "  model.add(Conv2D(64, kernel_size=(3, 3), padding='same'))\n",
        "  model.add(Activation('relu'))\n",
        "  model.add(SpatialDropout2D(dropout))\n",
        "\n",
        "  model.add(Conv2D(128, kernel_size=(3, 3), padding='same'))\n",
        "  model.add(Conv2D(128, kernel_size=(3, 3), padding='same'))\n",
        "  model.add(Activation('relu'))\n",
        "  model.add(MaxPooling2D(pool_size=(2, 2)))\n",
        "  model.add(SpatialDropout2D(dropout))\n",
        "\n",
        "  model.add(Conv2D(256, kernel_size=(3, 3), padding='same'))\n",
        "  model.add(Conv2D(256, kernel_size=(3, 3), padding='same'))\n",
        "  model.add(Activation('relu'))\n",
        "  model.add(MaxPooling2D(pool_size=(2, 2)))\n",
        "  model.add(Dropout(dropout))\n",
        "\n",
        "  model.add(Conv2D(512, kernel_size=(3, 3), padding='same'))\n",
        "  model.add(Conv2D(512, kernel_size=(3, 3), padding='same'))\n",
        "  model.add(Activation('relu'))\n",
        "  model.add(MaxPooling2D(pool_size=(2, 2)))\n",
        "  model.add(Dropout(dropout))\n",
        "\n",
        "  model.add(Flatten())\n",
        "  model.add(Dense(4096, activation='relu'))\n",
        "  model.add(Dropout(dropout))\n",
        "  model.add(Dense(7, activation='softmax'))\n",
        "  return model"
      ]
    },
    {
      "cell_type": "code",
      "execution_count": null,
      "metadata": {
        "id": "sCpDNI4zzJas"
      },
      "outputs": [],
      "source": [
        "def getModelBatchNormalization(dropout=0.3):\n",
        "  model = Sequential()\n",
        "  model.add(Conv2D(64, kernel_size=(3, 3), padding='same', input_shape=(48,48,1)))\n",
        "  model.add(Conv2D(64, kernel_size=(3, 3), padding='same'))\n",
        "  model.add(BatchNormalization())\n",
        "  model.add(Activation('relu'))\n",
        "\n",
        "  model.add(Conv2D(128, kernel_size=(3, 3), padding='same'))\n",
        "  model.add(Conv2D(128, kernel_size=(3, 3), padding='same'))\n",
        "  model.add(BatchNormalization())\n",
        "  model.add(Activation('relu'))\n",
        "  model.add(MaxPooling2D(pool_size=(2, 2)))\n",
        "\n",
        "  model.add(Conv2D(256, kernel_size=(3, 3), padding='same'))\n",
        "  model.add(Conv2D(256, kernel_size=(3, 3), padding='same'))\n",
        "  model.add(BatchNormalization())\n",
        "  model.add(Activation('relu'))\n",
        "  model.add(MaxPooling2D(pool_size=(2, 2)))\n",
        "\n",
        "  model.add(Conv2D(512, kernel_size=(3, 3), padding='same'))\n",
        "  model.add(Conv2D(512, kernel_size=(3, 3), padding='same'))\n",
        "  model.add(BatchNormalization())\n",
        "  model.add(Activation('relu'))\n",
        "  model.add(MaxPooling2D(pool_size=(2, 2)))\n",
        "\n",
        "  model.add(Conv2D(512, kernel_size=(3, 3), padding='same'))\n",
        "  model.add(Conv2D(512, kernel_size=(3, 3), padding='same'))\n",
        "  model.add(BatchNormalization())\n",
        "  model.add(Activation('relu'))\n",
        "  model.add(MaxPooling2D(pool_size=(2, 2)))\n",
        "\n",
        "  model.add(Flatten())\n",
        "  model.add(Dense(4096, activation='relu'))\n",
        "  model.add(Dropout(dropout))\n",
        "  model.add(Dense(7, activation='softmax'))\n",
        "  return model"
      ]
    },
    {
      "cell_type": "code",
      "execution_count": null,
      "metadata": {
        "id": "pVBOUiHi7XeY"
      },
      "outputs": [],
      "source": [
        "def CalcularModelo(lr, lrDecay, batchSize, dropout, numEpochs = 20):\n",
        "  novoModelo = None\n",
        "  if(dropout == 0):\n",
        "    novoModelo = getModelBatchNormalization()\n",
        "  else:\n",
        "    novoModelo = getModelDropout(dropout)\n",
        "\n",
        "  reduce_lr = ReduceLROnPlateau(monitor='val_loss', factor=0.1,\n",
        "                              patience=5, min_lr=0.000001)\n",
        "\n",
        "  novoModelo.compile(loss='categorical_crossentropy', optimizer=adam_v2.Adam(learning_rate=lr, decay=lrDecay),metrics=['accuracy'])\n",
        "  infoModelo = novoModelo.fit(\n",
        "    X_train_norm,\n",
        "    Y_train_categ,\n",
        "    steps_per_epoch = len(X_train_norm) // batchSize,\n",
        "    epochs = numEpochs,\n",
        "    verbose = 1,\n",
        "    validation_data = (X_test_norm, Y_test_categ),\n",
        "    callbacks=[reduce_lr]\n",
        "  )\n",
        "  return infoModelo"
      ]
    },
    {
      "cell_type": "markdown",
      "metadata": {
        "id": "n5r0aWWQ2Yse"
      },
      "source": [
        "# Treinamento"
      ]
    },
    {
      "cell_type": "code",
      "execution_count": null,
      "metadata": {
        "colab": {
          "base_uri": "https://localhost:8080/"
        },
        "id": "_p-v6yGk2mmI",
        "outputId": "7d0610c1-59f8-4e83-e06c-d2e116c0b888"
      },
      "outputs": [
        {
          "output_type": "stream",
          "name": "stdout",
          "text": [
            "Epoch 1/50\n",
            "897/897 [==============================] - 71s 78ms/step - loss: 1.6967 - accuracy: 0.3221 - val_loss: 1.5351 - val_accuracy: 0.3996 - lr: 1.0000e-04\n",
            "Epoch 2/50\n",
            "897/897 [==============================] - 70s 78ms/step - loss: 1.4694 - accuracy: 0.4359 - val_loss: 1.3349 - val_accuracy: 0.4896 - lr: 1.0000e-04\n",
            "Epoch 3/50\n",
            "897/897 [==============================] - 70s 78ms/step - loss: 1.3518 - accuracy: 0.4832 - val_loss: 1.2419 - val_accuracy: 0.5222 - lr: 1.0000e-04\n",
            "Epoch 4/50\n",
            "897/897 [==============================] - 70s 78ms/step - loss: 1.2652 - accuracy: 0.5197 - val_loss: 1.1886 - val_accuracy: 0.5485 - lr: 1.0000e-04\n",
            "Epoch 5/50\n",
            "897/897 [==============================] - 70s 78ms/step - loss: 1.1957 - accuracy: 0.5475 - val_loss: 1.1449 - val_accuracy: 0.5649 - lr: 1.0000e-04\n",
            "Epoch 6/50\n",
            "897/897 [==============================] - 71s 79ms/step - loss: 1.1410 - accuracy: 0.5707 - val_loss: 1.0988 - val_accuracy: 0.5847 - lr: 1.0000e-04\n",
            "Epoch 7/50\n",
            "897/897 [==============================] - 70s 78ms/step - loss: 1.0770 - accuracy: 0.5971 - val_loss: 1.0815 - val_accuracy: 0.5992 - lr: 1.0000e-04\n",
            "Epoch 8/50\n",
            "897/897 [==============================] - 71s 79ms/step - loss: 1.0242 - accuracy: 0.6180 - val_loss: 1.0830 - val_accuracy: 0.5960 - lr: 1.0000e-04\n",
            "Epoch 9/50\n",
            "897/897 [==============================] - 70s 78ms/step - loss: 0.9681 - accuracy: 0.6381 - val_loss: 1.0365 - val_accuracy: 0.6089 - lr: 1.0000e-04\n",
            "Epoch 10/50\n",
            "897/897 [==============================] - 70s 78ms/step - loss: 0.9016 - accuracy: 0.6659 - val_loss: 1.0301 - val_accuracy: 0.6173 - lr: 1.0000e-04\n",
            "Epoch 11/50\n",
            "897/897 [==============================] - 70s 78ms/step - loss: 0.8364 - accuracy: 0.6904 - val_loss: 1.0213 - val_accuracy: 0.6213 - lr: 1.0000e-04\n",
            "Epoch 12/50\n",
            "897/897 [==============================] - 70s 78ms/step - loss: 0.7650 - accuracy: 0.7178 - val_loss: 1.0484 - val_accuracy: 0.6319 - lr: 1.0000e-04\n",
            "Epoch 13/50\n",
            "897/897 [==============================] - 70s 78ms/step - loss: 0.6932 - accuracy: 0.7465 - val_loss: 1.0583 - val_accuracy: 0.6330 - lr: 1.0000e-04\n",
            "Epoch 14/50\n",
            "897/897 [==============================] - 69s 77ms/step - loss: 0.6265 - accuracy: 0.7731 - val_loss: 1.0724 - val_accuracy: 0.6350 - lr: 1.0000e-04\n",
            "Epoch 15/50\n",
            "897/897 [==============================] - 69s 77ms/step - loss: 0.5623 - accuracy: 0.7999 - val_loss: 1.0760 - val_accuracy: 0.6307 - lr: 1.0000e-04\n",
            "Epoch 16/50\n",
            "897/897 [==============================] - 70s 78ms/step - loss: 0.5088 - accuracy: 0.8189 - val_loss: 1.1867 - val_accuracy: 0.6305 - lr: 1.0000e-04\n",
            "Epoch 17/50\n",
            "897/897 [==============================] - 69s 77ms/step - loss: 0.3913 - accuracy: 0.8617 - val_loss: 1.1623 - val_accuracy: 0.6443 - lr: 1.0000e-05\n",
            "Epoch 18/50\n",
            "897/897 [==============================] - 70s 78ms/step - loss: 0.3271 - accuracy: 0.8860 - val_loss: 1.1945 - val_accuracy: 0.6438 - lr: 1.0000e-05\n",
            "Epoch 19/50\n",
            "897/897 [==============================] - 70s 78ms/step - loss: 0.2959 - accuracy: 0.8973 - val_loss: 1.2376 - val_accuracy: 0.6471 - lr: 1.0000e-05\n",
            "Epoch 20/50\n",
            "897/897 [==============================] - 70s 78ms/step - loss: 0.2895 - accuracy: 0.8995 - val_loss: 1.2268 - val_accuracy: 0.6464 - lr: 1.0000e-05\n",
            "Epoch 21/50\n",
            "897/897 [==============================] - 70s 78ms/step - loss: 0.2643 - accuracy: 0.9085 - val_loss: 1.2866 - val_accuracy: 0.6491 - lr: 1.0000e-05\n",
            "Epoch 22/50\n",
            "897/897 [==============================] - 71s 79ms/step - loss: 0.2554 - accuracy: 0.9104 - val_loss: 1.2799 - val_accuracy: 0.6486 - lr: 1.0000e-06\n",
            "Epoch 23/50\n",
            "897/897 [==============================] - 71s 79ms/step - loss: 0.2467 - accuracy: 0.9137 - val_loss: 1.2772 - val_accuracy: 0.6484 - lr: 1.0000e-06\n",
            "Epoch 24/50\n",
            "897/897 [==============================] - 70s 78ms/step - loss: 0.2446 - accuracy: 0.9150 - val_loss: 1.2804 - val_accuracy: 0.6466 - lr: 1.0000e-06\n",
            "Epoch 25/50\n",
            "897/897 [==============================] - 70s 78ms/step - loss: 0.2339 - accuracy: 0.9196 - val_loss: 1.2869 - val_accuracy: 0.6461 - lr: 1.0000e-06\n",
            "Epoch 26/50\n",
            "897/897 [==============================] - 71s 79ms/step - loss: 0.2422 - accuracy: 0.9165 - val_loss: 1.2834 - val_accuracy: 0.6471 - lr: 1.0000e-06\n",
            "Epoch 27/50\n",
            "897/897 [==============================] - 71s 79ms/step - loss: 0.2416 - accuracy: 0.9168 - val_loss: 1.2847 - val_accuracy: 0.6477 - lr: 1.0000e-06\n",
            "Epoch 28/50\n",
            "897/897 [==============================] - 70s 78ms/step - loss: 0.2381 - accuracy: 0.9176 - val_loss: 1.2885 - val_accuracy: 0.6485 - lr: 1.0000e-06\n",
            "Epoch 29/50\n",
            "897/897 [==============================] - 70s 78ms/step - loss: 0.2374 - accuracy: 0.9187 - val_loss: 1.2928 - val_accuracy: 0.6485 - lr: 1.0000e-06\n",
            "Epoch 30/50\n",
            "897/897 [==============================] - 70s 78ms/step - loss: 0.2342 - accuracy: 0.9174 - val_loss: 1.2864 - val_accuracy: 0.6488 - lr: 1.0000e-06\n",
            "Epoch 31/50\n",
            "897/897 [==============================] - 71s 79ms/step - loss: 0.2317 - accuracy: 0.9200 - val_loss: 1.3006 - val_accuracy: 0.6460 - lr: 1.0000e-06\n",
            "Epoch 32/50\n",
            "897/897 [==============================] - 70s 78ms/step - loss: 0.2346 - accuracy: 0.9187 - val_loss: 1.3090 - val_accuracy: 0.6460 - lr: 1.0000e-06\n",
            "Epoch 33/50\n",
            "897/897 [==============================] - 70s 78ms/step - loss: 0.2322 - accuracy: 0.9205 - val_loss: 1.3036 - val_accuracy: 0.6478 - lr: 1.0000e-06\n",
            "Epoch 34/50\n",
            "897/897 [==============================] - 70s 78ms/step - loss: 0.2321 - accuracy: 0.9203 - val_loss: 1.3026 - val_accuracy: 0.6468 - lr: 1.0000e-06\n",
            "Epoch 35/50\n",
            "897/897 [==============================] - 70s 78ms/step - loss: 0.2251 - accuracy: 0.9217 - val_loss: 1.3041 - val_accuracy: 0.6466 - lr: 1.0000e-06\n",
            "Epoch 36/50\n",
            "897/897 [==============================] - 71s 79ms/step - loss: 0.2300 - accuracy: 0.9201 - val_loss: 1.3120 - val_accuracy: 0.6471 - lr: 1.0000e-06\n",
            "Epoch 37/50\n",
            "897/897 [==============================] - 70s 78ms/step - loss: 0.2294 - accuracy: 0.9200 - val_loss: 1.3079 - val_accuracy: 0.6466 - lr: 1.0000e-06\n",
            "Epoch 38/50\n",
            "897/897 [==============================] - 70s 78ms/step - loss: 0.2255 - accuracy: 0.9227 - val_loss: 1.3158 - val_accuracy: 0.6471 - lr: 1.0000e-06\n",
            "Epoch 39/50\n",
            "897/897 [==============================] - 70s 78ms/step - loss: 0.2276 - accuracy: 0.9222 - val_loss: 1.3073 - val_accuracy: 0.6471 - lr: 1.0000e-06\n",
            "Epoch 40/50\n",
            "897/897 [==============================] - 71s 79ms/step - loss: 0.2233 - accuracy: 0.9218 - val_loss: 1.3116 - val_accuracy: 0.6475 - lr: 1.0000e-06\n",
            "Epoch 41/50\n",
            "897/897 [==============================] - 70s 78ms/step - loss: 0.2183 - accuracy: 0.9254 - val_loss: 1.3156 - val_accuracy: 0.6466 - lr: 1.0000e-06\n",
            "Epoch 42/50\n",
            "897/897 [==============================] - 70s 78ms/step - loss: 0.2214 - accuracy: 0.9245 - val_loss: 1.3205 - val_accuracy: 0.6471 - lr: 1.0000e-06\n",
            "Epoch 43/50\n",
            "897/897 [==============================] - 70s 78ms/step - loss: 0.2235 - accuracy: 0.9236 - val_loss: 1.3242 - val_accuracy: 0.6474 - lr: 1.0000e-06\n",
            "Epoch 44/50\n",
            "897/897 [==============================] - 70s 78ms/step - loss: 0.2140 - accuracy: 0.9266 - val_loss: 1.3332 - val_accuracy: 0.6481 - lr: 1.0000e-06\n",
            "Epoch 45/50\n",
            "897/897 [==============================] - 70s 78ms/step - loss: 0.2101 - accuracy: 0.9280 - val_loss: 1.3392 - val_accuracy: 0.6457 - lr: 1.0000e-06\n",
            "Epoch 46/50\n",
            "897/897 [==============================] - 70s 78ms/step - loss: 0.2127 - accuracy: 0.9263 - val_loss: 1.3383 - val_accuracy: 0.6473 - lr: 1.0000e-06\n",
            "Epoch 47/50\n",
            "897/897 [==============================] - 70s 78ms/step - loss: 0.2130 - accuracy: 0.9259 - val_loss: 1.3391 - val_accuracy: 0.6468 - lr: 1.0000e-06\n",
            "Epoch 48/50\n",
            "897/897 [==============================] - 71s 79ms/step - loss: 0.2173 - accuracy: 0.9237 - val_loss: 1.3372 - val_accuracy: 0.6480 - lr: 1.0000e-06\n",
            "Epoch 49/50\n",
            "444/897 [=============>................] - ETA: 33s - loss: 0.2008 - accuracy: 0.9299WARNING:tensorflow:Your input ran out of data; interrupting training. Make sure that your dataset or generator can generate at least `steps_per_epoch * epochs` batches (in this case, 44850 batches). You may need to use the repeat() function when building your dataset.\n",
            "897/897 [==============================] - 38s 42ms/step - loss: 0.2008 - accuracy: 0.9299 - val_loss: 1.3379 - val_accuracy: 0.6464 - lr: 1.0000e-06\n"
          ]
        }
      ],
      "source": [
        "lr = 0.0001\n",
        "lrd = 1e-6\n",
        "bs = 32\n",
        "dr = 0.50\n",
        "\n",
        "model_info = CalcularModelo(lr, lrd, bs, dr, 50)"
      ]
    },
    {
      "cell_type": "markdown",
      "metadata": {
        "id": "SOo76lPAorVE"
      },
      "source": [
        "# Gráficos"
      ]
    },
    {
      "cell_type": "code",
      "execution_count": null,
      "metadata": {
        "colab": {
          "base_uri": "https://localhost:8080/",
          "height": 390
        },
        "id": "gbJ6-ItAonyz",
        "outputId": "c01962f9-74f8-4fad-dba3-10684fd5663f"
      },
      "outputs": [
        {
          "output_type": "display_data",
          "data": {
            "text/plain": [
              "<Figure size 1296x432 with 1 Axes>"
            ],
            "image/png": "[encoded data removed]"
          },
          "metadata": {
            "needs_background": "light"
          }
        }
      ],
      "source": [
        "acc = model_info.history['accuracy']\n",
        "val_acc = model_info.history['val_accuracy']\n",
        "\n",
        "loss = model_info.history['loss']\n",
        "val_loss = model_info.history['val_loss']\n",
        "\n",
        "epochs_range = range(len(acc))\n",
        "\n",
        "plt.figure(figsize = (18, 6))\n",
        "plt.subplot(1, 2, 1)\n",
        "plt.plot(epochs_range, acc, label = 'Training Accuracy')\n",
        "plt.plot(epochs_range, val_acc, label = 'Validation Accuracy')\n",
        "plt.legend(loc = 'lower right')\n",
        "plt.title('Training and Validation Accuracy')\n",
        "\n",
        "plt.subplot(1, 2, 2)\n",
        "plt.plot(epochs_range, loss, label = 'Training Loss')\n",
        "plt.plot(epochs_range, val_loss, label = 'Validation Loss')\n",
        "plt.legend(loc = 'upper right')\n",
        "plt.title('Training and Validation Loss')\n",
        "plt.savefig('bestModelGraph.png')\n",
        "plt.show()"
      ]
    },
    {
      "cell_type": "code",
      "source": [
        "fig = plt.figure()\n",
        "ax = fig.add_axes([0,0,1,1])\n",
        "ax.set_ylabel('Acurácia(%)')\n",
        "ax.set_xlabel('Taxa de Aprendizagem')\n",
        "ax.set_title('Taxa de Aprendizagem x Acurácia')\n",
        "plt.ylim(55, 65)\n",
        "ax.bar(vals,accuracy)\n",
        "plt.show()"
      ],
      "metadata": {
        "id": "IirWvMLkE1JV"
      },
      "execution_count": null,
      "outputs": []
    },
    {
      "cell_type": "code",
      "source": [
        "plt.subplot(1, 2)\n",
        "plt.plot(epochs_range, loss, label = 'Training Loss')\n",
        "plt.plot(epochs_range, val_loss, label = 'Validation Loss')\n",
        "plt.legend(loc = 'upper right')\n",
        "plt.title('Training and Validation Loss')\n",
        "plt.savefig('bestModelGraph.png')\n",
        "plt.show()"
      ],
      "metadata": {
        "id": "xlbKOSvfEkTK"
      },
      "execution_count": null,
      "outputs": []
    },
    {
      "cell_type": "code",
      "execution_count": null,
      "metadata": {
        "id": "GBGoNmpfZHXQ"
      },
      "outputs": [],
      "source": [
        "#model.save(pathData)"
      ]
    }
  ],
  "metadata": {
    "accelerator": "GPU",
    "colab": {
      "collapsed_sections": [
        "lAQt4KHdUsC_",
        "wFjTPH_2U2aa",
        "7l2w0M7ZT_no",
        "SOo76lPAorVE"
      ],
      "provenance": [],
      "include_colab_link": true
    },
    "kernelspec": {
      "display_name": "Python 3",
      "name": "python3"
    },
    "language_info": {
      "name": "python"
    }
  },
  "nbformat": 4,
  "nbformat_minor": 0
}